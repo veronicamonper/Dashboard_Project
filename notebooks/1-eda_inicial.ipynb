{
 "cells": [
  {
   "cell_type": "code",
   "execution_count": 1,
   "metadata": {},
   "outputs": [],
   "source": [
    "import pandas as pd"
   ]
  },
  {
   "cell_type": "code",
   "execution_count": 3,
   "metadata": {},
   "outputs": [
    {
     "data": {
      "text/html": [
       "<div>\n",
       "<style scoped>\n",
       "    .dataframe tbody tr th:only-of-type {\n",
       "        vertical-align: middle;\n",
       "    }\n",
       "\n",
       "    .dataframe tbody tr th {\n",
       "        vertical-align: top;\n",
       "    }\n",
       "\n",
       "    .dataframe thead th {\n",
       "        text-align: right;\n",
       "    }\n",
       "</style>\n",
       "<table border=\"1\" class=\"dataframe\">\n",
       "  <thead>\n",
       "    <tr style=\"text-align: right;\">\n",
       "      <th></th>\n",
       "      <th>Account Name</th>\n",
       "      <th>Bootcamp Start Date</th>\n",
       "      <th>Stage Before Lost</th>\n",
       "      <th>Created Date</th>\n",
       "      <th>Bootcamp Format</th>\n",
       "      <th>Interest</th>\n",
       "      <th>Campus extended</th>\n",
       "      <th>Country Aggregate</th>\n",
       "      <th>Stage</th>\n",
       "      <th>Last Click Channel</th>\n",
       "    </tr>\n",
       "    <tr>\n",
       "      <th>Opportunity ID</th>\n",
       "      <th></th>\n",
       "      <th></th>\n",
       "      <th></th>\n",
       "      <th></th>\n",
       "      <th></th>\n",
       "      <th></th>\n",
       "      <th></th>\n",
       "      <th></th>\n",
       "      <th></th>\n",
       "      <th></th>\n",
       "    </tr>\n",
       "  </thead>\n",
       "  <tbody>\n",
       "    <tr>\n",
       "      <th>0065J000009E0Ge</th>\n",
       "      <td>Tanase Georgiana Cristina</td>\n",
       "      <td>13/06/2022</td>\n",
       "      <td>NaN</td>\n",
       "      <td>1/01/2022</td>\n",
       "      <td>FT</td>\n",
       "      <td>WDFT</td>\n",
       "      <td>RMTEU - Spain</td>\n",
       "      <td>Spain</td>\n",
       "      <td>Paid Deposit</td>\n",
       "      <td>Email</td>\n",
       "    </tr>\n",
       "    <tr>\n",
       "      <th>0065J00000Awp4h</th>\n",
       "      <td>Lamiya Safarova</td>\n",
       "      <td>4/07/2022</td>\n",
       "      <td>NaN</td>\n",
       "      <td>28/03/2022</td>\n",
       "      <td>FT</td>\n",
       "      <td>UXFT</td>\n",
       "      <td>BCN - Spain</td>\n",
       "      <td>Azerbaijan</td>\n",
       "      <td>Paid Deposit</td>\n",
       "      <td>Direct</td>\n",
       "    </tr>\n",
       "    <tr>\n",
       "      <th>0065J000009CD60</th>\n",
       "      <td>Narine Amiryan</td>\n",
       "      <td>11/04/2022</td>\n",
       "      <td>Technical Interview</td>\n",
       "      <td>19/10/2021</td>\n",
       "      <td>FT</td>\n",
       "      <td>DAFT</td>\n",
       "      <td>BCN - Spain</td>\n",
       "      <td>United States</td>\n",
       "      <td>Closed lost</td>\n",
       "      <td>Paid Search</td>\n",
       "    </tr>\n",
       "    <tr>\n",
       "      <th>0065J000009Ckyd</th>\n",
       "      <td>Cristina Peña Cotrino</td>\n",
       "      <td>5/04/2022</td>\n",
       "      <td>Technical Interview</td>\n",
       "      <td>4/11/2021</td>\n",
       "      <td>PT</td>\n",
       "      <td>DAPT</td>\n",
       "      <td>BCN - Spain</td>\n",
       "      <td>Colombia</td>\n",
       "      <td>Closed lost</td>\n",
       "      <td>Organic Search</td>\n",
       "    </tr>\n",
       "    <tr>\n",
       "      <th>0065J000009CmDl</th>\n",
       "      <td>claudia parals</td>\n",
       "      <td>5/04/2022</td>\n",
       "      <td>Technical Interview</td>\n",
       "      <td>5/11/2021</td>\n",
       "      <td>PT</td>\n",
       "      <td>DAPT</td>\n",
       "      <td>BCN - Spain</td>\n",
       "      <td>Spain</td>\n",
       "      <td>Closed lost</td>\n",
       "      <td>Organic Search</td>\n",
       "    </tr>\n",
       "  </tbody>\n",
       "</table>\n",
       "</div>"
      ],
      "text/plain": [
       "                              Account Name Bootcamp Start Date  \\\n",
       "Opportunity ID                                                   \n",
       "0065J000009E0Ge  Tanase Georgiana Cristina          13/06/2022   \n",
       "0065J00000Awp4h            Lamiya Safarova           4/07/2022   \n",
       "0065J000009CD60             Narine Amiryan          11/04/2022   \n",
       "0065J000009Ckyd      Cristina Peña Cotrino           5/04/2022   \n",
       "0065J000009CmDl             claudia parals           5/04/2022   \n",
       "\n",
       "                   Stage Before Lost Created Date Bootcamp Format Interest  \\\n",
       "Opportunity ID                                                               \n",
       "0065J000009E0Ge                  NaN    1/01/2022              FT     WDFT   \n",
       "0065J00000Awp4h                  NaN   28/03/2022              FT     UXFT   \n",
       "0065J000009CD60  Technical Interview   19/10/2021              FT     DAFT   \n",
       "0065J000009Ckyd  Technical Interview    4/11/2021              PT     DAPT   \n",
       "0065J000009CmDl  Technical Interview    5/11/2021              PT     DAPT   \n",
       "\n",
       "                Campus extended Country Aggregate         Stage  \\\n",
       "Opportunity ID                                                    \n",
       "0065J000009E0Ge   RMTEU - Spain             Spain  Paid Deposit   \n",
       "0065J00000Awp4h     BCN - Spain        Azerbaijan  Paid Deposit   \n",
       "0065J000009CD60     BCN - Spain     United States   Closed lost   \n",
       "0065J000009Ckyd     BCN - Spain          Colombia   Closed lost   \n",
       "0065J000009CmDl     BCN - Spain             Spain   Closed lost   \n",
       "\n",
       "                Last Click Channel  \n",
       "Opportunity ID                      \n",
       "0065J000009E0Ge              Email  \n",
       "0065J00000Awp4h             Direct  \n",
       "0065J000009CD60        Paid Search  \n",
       "0065J000009Ckyd     Organic Search  \n",
       "0065J000009CmDl     Organic Search  "
      ]
     },
     "execution_count": 3,
     "metadata": {},
     "output_type": "execute_result"
    }
   ],
   "source": [
    "df1 = pd.read_csv(\"../data/proyecto2.csv\", encoding = 'utf-8', index_col = 0, sep=';')\n",
    "df1.head()"
   ]
  },
  {
   "cell_type": "code",
   "execution_count": 8,
   "metadata": {},
   "outputs": [
    {
     "data": {
      "text/plain": [
       "3915"
      ]
     },
     "execution_count": 8,
     "metadata": {},
     "output_type": "execute_result"
    }
   ],
   "source": [
    "df1.shape[0]"
   ]
  },
  {
   "cell_type": "code",
   "execution_count": 6,
   "metadata": {},
   "outputs": [
    {
     "data": {
      "text/plain": [
       "Last Click Channel\n",
       "Paid Search       1021\n",
       "Organic Search     980\n",
       "Direct             404\n",
       "Email              265\n",
       "Other              157\n",
       "Referral           127\n",
       "Social              85\n",
       "Name: count, dtype: int64"
      ]
     },
     "execution_count": 6,
     "metadata": {},
     "output_type": "execute_result"
    }
   ],
   "source": [
    "df1['Last Click Channel'].value_counts()"
   ]
  },
  {
   "cell_type": "code",
   "execution_count": 5,
   "metadata": {},
   "outputs": [
    {
     "data": {
      "text/plain": [
       "Stage Before Lost\n",
       "Technical Interview    1063\n",
       "Personal Interview      814\n",
       "Student Agreement       518\n",
       "Re-applied              183\n",
       "Name: count, dtype: int64"
      ]
     },
     "execution_count": 5,
     "metadata": {},
     "output_type": "execute_result"
    }
   ],
   "source": [
    "df1['Stage Before Lost'].value_counts()"
   ]
  },
  {
   "cell_type": "code",
   "execution_count": null,
   "metadata": {},
   "outputs": [],
   "source": [
    "# hacer group by de last click channel para ver abandoned vs enrolled"
   ]
  }
 ],
 "metadata": {
  "kernelspec": {
   "display_name": "base",
   "language": "python",
   "name": "python3"
  },
  "language_info": {
   "codemirror_mode": {
    "name": "ipython",
    "version": 3
   },
   "file_extension": ".py",
   "mimetype": "text/x-python",
   "name": "python",
   "nbconvert_exporter": "python",
   "pygments_lexer": "ipython3",
   "version": "3.10.9"
  },
  "orig_nbformat": 4
 },
 "nbformat": 4,
 "nbformat_minor": 2
}
